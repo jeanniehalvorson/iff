{
 "cells": [
  {
   "cell_type": "markdown",
   "id": "0c703af4-098f-46da-99f2-cfdd6252ea5b",
   "metadata": {},
   "source": [
    "# 1. IFF is in the middle of fundraising season and is looking for potential donors.\n",
    "\n",
    "Please write a script in Python/R that extracts the data of the wealthiest charitable\n",
    "foundations from this Wikipedia page:\n",
    "https://en.wikipedia.org/wiki/List_of_wealthiest_charitable_foundations and exports\n",
    "the output of the dataframe into a csv (please make sure to include all of the columns\n",
    "except Endowment in Home Currency and References). Paste the script below."
   ]
  },
  {
   "cell_type": "code",
   "execution_count": 60,
   "id": "ffe16791-7d09-4dd8-8a65-bd3aef6c1348",
   "metadata": {},
   "outputs": [
    {
     "name": "stdout",
     "output_type": "stream",
     "text": [
      "Index(['Rank', 'Organisation', 'Country', 'Headquarters', 'Endowment in USD',\n",
      "       'Endowment in home currency', 'Founded', 'References'],\n",
      "      dtype='object')\n"
     ]
    }
   ],
   "source": [
    "import pandas as pd\n",
    "import requests\n",
    "from bs4 import BeautifulSoup\n",
    "from io import StringIO\n",
    "\n",
    "url = \"https://en.wikipedia.org/wiki/List_of_wealthiest_charitable_foundations\"\n",
    "response = requests.get(url)\n",
    "soup = BeautifulSoup(response.text, 'html.parser')\n",
    "\n",
    "table = soup.find_all('table')[0]\n",
    "table_html = StringIO(str(table))\n",
    "\n",
    "df = pd.read_html(table_html)[0]\n",
    "print(df.columns)"
   ]
  },
  {
   "cell_type": "code",
   "execution_count": 61,
   "id": "903e2e78-b8c3-4646-bb38-58634727674e",
   "metadata": {},
   "outputs": [
    {
     "name": "stdout",
     "output_type": "stream",
     "text": [
      "Index(['Rank', 'Organisation', 'Country', 'Headquarters', 'Endowment in USD',\n",
      "       'Founded'],\n",
      "      dtype='object')\n"
     ]
    }
   ],
   "source": [
    "df.drop(['Endowment in home currency', 'References'], axis=1, inplace=True)\n",
    "print(df.columns)"
   ]
  },
  {
   "cell_type": "code",
   "execution_count": 62,
   "id": "ce3f3314-b9b4-43ca-bcf1-dfd2db25d8ed",
   "metadata": {},
   "outputs": [
    {
     "name": "stdout",
     "output_type": "stream",
     "text": [
      "Data has been successfully exported to 'wealthiest_charitable_foundations.csv'.\n"
     ]
    }
   ],
   "source": [
    "df.to_csv('wealthiest_charitable_foundations.csv', index=False)\n",
    "\n",
    "print(\"Data has been successfully exported to 'wealthiest_charitable_foundations.csv'.\")"
   ]
  },
  {
   "cell_type": "code",
   "execution_count": 63,
   "id": "dceeed1c-b1fa-4c95-9608-aa2493a94cb3",
   "metadata": {},
   "outputs": [
    {
     "name": "stdout",
     "output_type": "stream",
     "text": [
      "   Rank                     Organisation         Country Headquarters  \\\n",
      "0     1          Novo Nordisk Foundation         Denmark   Copenhagen   \n",
      "1     2  Bill & Melinda Gates Foundation   United States      Seattle   \n",
      "2     3                   Wellcome Trust  United Kingdom       London   \n",
      "3     4       Stichting INGKA Foundation     Netherlands       Leiden   \n",
      "4     5            Mastercard Foundation          Canada      Toronto   \n",
      "\n",
      "  Endowment in USD  Founded  \n",
      "0   $120.2 billion     1989  \n",
      "1    $50.2 billion     2000  \n",
      "2    $42.8 billion     1936  \n",
      "3    $37.3 billion     1982  \n",
      "4    $31.5 billion     2006  \n"
     ]
    }
   ],
   "source": [
    "print(df.head())"
   ]
  },
  {
   "cell_type": "markdown",
   "id": "eecca2d1-1347-4ad8-8d2a-af30eda7df8d",
   "metadata": {},
   "source": [
    "# 2. Our CEO is excited about the list of potential donors located in the US and wants to see where they are located. \n",
    "\n",
    "Create a script in Python/R that takes the\n",
    "previous table and joins it to the attached uscities_csv file, and create a map with\n",
    "the following:\n",
    "\n",
    "a. Each organization in the US placed on the map according using the\n",
    "latitude and longitude in the data (there should be 30 in total)\n",
    "\n",
    "b. The size of the points of the map should be set according to the size\n",
    "of the endowment (i.e. bigger endowments should be bigger and\n",
    "smaller endowments should be smaller)\n",
    "\n",
    "c. Each point should be a different color (at least 5 different colors in\n",
    "total)"
   ]
  },
  {
   "cell_type": "code",
   "execution_count": 64,
   "id": "8eef78b1-d19b-4e9e-9911-19ff39a81555",
   "metadata": {},
   "outputs": [
    {
     "name": "stdout",
     "output_type": "stream",
     "text": [
      "Index(['city', 'city_ascii', 'state_id', 'state_name', 'county_fips',\n",
      "       'county_name', 'lat', 'lng', 'population', 'density', 'source',\n",
      "       'military', 'incorporated', 'timezone', 'ranking', 'zips', 'id'],\n",
      "      dtype='object')\n"
     ]
    }
   ],
   "source": [
    "import plotly.express as px\n",
    "\n",
    "foundations_df = pd.read_csv('wealthiest_charitable_foundations.csv')\n",
    "\n",
    "uscities_df = pd.read_csv('uscities.csv')\n",
    "\n",
    "print(uscities_df.columns)"
   ]
  },
  {
   "cell_type": "code",
   "execution_count": 65,
   "id": "8864a60c-17ae-4419-9aed-2d0837a53abc",
   "metadata": {},
   "outputs": [
    {
     "name": "stdout",
     "output_type": "stream",
     "text": [
      "Unique Cities in Foundations DataFrame:\n",
      " ['Seattle' 'Chevy Chase' 'New York' 'Indianapolis' 'San Jose' 'Honolulu'\n",
      " 'Princeton' 'Los Angeles' 'Palo Alto' 'Minneapolis' 'Menlo Park'\n",
      " 'Battle Creek' 'Los Altos' 'Chicago' 'Westlake Village' 'Jacksonville'\n",
      " 'Tulsa' 'Troy' 'Oakland' 'Charlotte' 'Cleveland' 'Kansas City']\n",
      "Unique Cities in US Cities DataFrame:\n",
      " ['New York' 'Los Angeles' 'Chicago' ... 'Mount Wilson' 'Kohatk'\n",
      " 'Falcon Village']\n",
      "Unique States in Foundations DataFrame:\n",
      " [None 'MD' 'CA' 'NJ' 'MI']\n",
      "Unique States in US Cities DataFrame:\n",
      " ['NY' 'CA' 'IL' 'FL' 'TX' 'PA' 'GA' 'DC' 'MA' 'AZ' 'MI' 'WA' 'MN' 'CO'\n",
      " 'NV' 'MD' 'MO' 'OR' 'PR' 'IN' 'OH' 'VA' 'NC' 'WI' 'RI' 'TN' 'UT' 'OK'\n",
      " 'CT' 'KY' 'LA' 'NE' 'AL' 'NM' 'SC' 'IA' 'KS' 'AR' 'ID' 'NJ' 'HI' 'MS'\n",
      " 'AK' 'NH' 'ND' 'ME' 'SD' 'WV' 'MT' 'DE' 'VT' 'WY']\n"
     ]
    }
   ],
   "source": [
    "print(\"Unique Cities in Foundations DataFrame:\\n\", us_foundations_df['City'].unique())\n",
    "print(\"Unique Cities in US Cities DataFrame:\\n\", uscities_df['city'].unique())\n",
    "print(\"Unique States in Foundations DataFrame:\\n\", us_foundations_df['State'].unique())\n",
    "print(\"Unique States in US Cities DataFrame:\\n\", uscities_df['state_id'].unique())\n"
   ]
  },
  {
   "cell_type": "code",
   "execution_count": 66,
   "id": "e2bfbe29-b25b-4651-8d83-1f093c21e416",
   "metadata": {},
   "outputs": [
    {
     "name": "stdout",
     "output_type": "stream",
     "text": [
      "Unique Cities in Foundations DataFrame:\n",
      " ['Seattle' 'Chevy Chase' 'New York' 'Indianapolis' 'San Jose' 'Honolulu'\n",
      " 'Princeton' 'Los Angeles' 'Palo Alto' 'Minneapolis' 'Menlo Park'\n",
      " 'Battle Creek' 'Los Altos' 'Chicago' 'Westlake Village' 'Jacksonville'\n",
      " 'Tulsa' 'Troy' 'Oakland' 'Charlotte' 'Cleveland' 'Kansas City']\n",
      "Unique Cities in US Cities DataFrame:\n",
      " ['New York' 'Los Angeles' 'Chicago' ... 'Mount Wilson' 'Kohatk'\n",
      " 'Falcon Village']\n",
      "Unique States in Foundations DataFrame:\n",
      " [None 'MD' 'CA' 'NJ' 'MI']\n",
      "Unique States in US Cities DataFrame:\n",
      " ['NY' 'CA' 'IL' 'FL' 'TX' 'PA' 'GA' 'DC' 'MA' 'AZ' 'MI' 'WA' 'MN' 'CO'\n",
      " 'NV' 'MD' 'MO' 'OR' 'PR' 'IN' 'OH' 'VA' 'NC' 'WI' 'RI' 'TN' 'UT' 'OK'\n",
      " 'CT' 'KY' 'LA' 'NE' 'AL' 'NM' 'SC' 'IA' 'KS' 'AR' 'ID' 'NJ' 'HI' 'MS'\n",
      " 'AK' 'NH' 'ND' 'ME' 'SD' 'WV' 'MT' 'DE' 'VT' 'WY']\n"
     ]
    }
   ],
   "source": [
    "# Filter out only the US-based foundations\n",
    "us_foundations_df = foundations_df[foundations_df['Country'] == 'United States'].copy()\n",
    "\n",
    "# Normalize city and state names\n",
    "us_foundations_df[['City', 'State']] = us_foundations_df['Headquarters'].str.split(', ', expand=True)\n",
    "\n",
    "# Define state abbreviation mapping\n",
    "state_abbreviation = {\n",
    "    'California': 'CA',\n",
    "    'New Jersey': 'NJ',\n",
    "    'Maryland': 'MD',\n",
    "    'Michigan': 'MI',\n",
    "    'New York': 'NY',\n",
    "    'Florida': 'FL',\n",
    "    'Texas': 'TX',\n",
    "    'Pennsylvania': 'PA',\n",
    "    'Georgia': 'GA',\n",
    "    'District of Columbia': 'DC',\n",
    "    'Massachusetts': 'MA',\n",
    "    'Arizona': 'AZ',\n",
    "    'Ohio': 'OH',\n",
    "    'Washington': 'WA',\n",
    "    'Minnesota': 'MN',\n",
    "    'Colorado': 'CO',\n",
    "    'Nevada': 'NV',\n",
    "    'Missouri': 'MO',\n",
    "    'Oregon': 'OR',\n",
    "    'Puerto Rico': 'PR',\n",
    "    'Indiana': 'IN',\n",
    "    'North Carolina': 'NC',\n",
    "    'Wisconsin': 'WI',\n",
    "    'Rhode Island': 'RI',\n",
    "    'Tennessee': 'TN',\n",
    "    'Utah': 'UT',\n",
    "    'Oklahoma': 'OK',\n",
    "    'Connecticut': 'CT',\n",
    "    'Kentucky': 'KY',\n",
    "    'Louisiana': 'LA',\n",
    "    'Nebraska': 'NE',\n",
    "    'Alabama': 'AL',\n",
    "    'New Mexico': 'NM',\n",
    "    'South Carolina': 'SC',\n",
    "    'Iowa': 'IA',\n",
    "    'Kansas': 'KS',\n",
    "    'Arkansas': 'AR',\n",
    "    'Idaho': 'ID',\n",
    "    'New Jersey': 'NJ',\n",
    "    'Hawaii': 'HI',\n",
    "    'Mississippi': 'MS',\n",
    "    'Alaska': 'AK',\n",
    "    'New Hampshire': 'NH',\n",
    "    'North Dakota': 'ND',\n",
    "    'Maine': 'ME',\n",
    "    'South Dakota': 'SD',\n",
    "    'West Virginia': 'WV',\n",
    "    'Montana': 'MT',\n",
    "    'Delaware': 'DE',\n",
    "    'Vermont': 'VT',\n",
    "    'Wyoming': 'WY'\n",
    "}\n",
    "\n",
    "# Map state names to abbreviations\n",
    "us_foundations_df['State'] = us_foundations_df['State'].map(state_abbreviation).fillna(us_foundations_df['State'])\n",
    "\n",
    "# Standardize city names (e.g., mapping full city names to standard names)\n",
    "city_mapping = {\n",
    "    'New York City': 'New York',\n",
    "    'San Jose': 'San Jose',\n",
    "    'Los Angeles': 'Los Angeles',\n",
    "    'Honolulu': 'Honolulu',\n",
    "    'Indianapolis': 'Indianapolis',\n",
    "    'Chicago': 'Chicago',\n",
    "    'Westlake Village': 'Westlake Village',\n",
    "    'Jacksonville': 'Jacksonville',\n",
    "    'Tulsa': 'Tulsa',\n",
    "    'Troy': 'Troy',\n",
    "    'Oakland': 'Oakland',\n",
    "    'Charlotte': 'Charlotte',\n",
    "    'Cleveland': 'Cleveland',\n",
    "    'Kansas City': 'Kansas City',\n",
    "    'Chevy Chase': 'Chevy Chase',\n",
    "    'Princeton': 'Princeton',\n",
    "    'Menlo Park': 'Menlo Park',\n",
    "    'Battle Creek': 'Battle Creek',\n",
    "    'Los Altos': 'Los Altos',\n",
    "    'Palo Alto': 'Palo Alto',\n",
    "    'Minneapolis': 'Minneapolis'\n",
    "}\n",
    "\n",
    "# Map city names\n",
    "us_foundations_df['City'] = us_foundations_df['City'].map(city_mapping).fillna(us_foundations_df['City'])\n",
    "\n",
    "# Print unique values to verify\n",
    "print(\"Unique Cities in Foundations DataFrame:\\n\", us_foundations_df['City'].unique())\n",
    "print(\"Unique Cities in US Cities DataFrame:\\n\", uscities_df['city'].unique())\n",
    "print(\"Unique States in Foundations DataFrame:\\n\", us_foundations_df['State'].unique())\n",
    "print(\"Unique States in US Cities DataFrame:\\n\", uscities_df['state_id'].unique())\n"
   ]
  },
  {
   "cell_type": "code",
   "execution_count": 67,
   "id": "569933a0-3a40-4843-b53f-36d9afd1c35e",
   "metadata": {},
   "outputs": [
    {
     "name": "stdout",
     "output_type": "stream",
     "text": [
      "Merged DataFrame Shape: (10, 25)\n",
      "Merged DataFrame Sample:\n",
      "    Rank                          Organisation        Country  \\\n",
      "0     6       Howard Hughes Medical Institute  United States   \n",
      "1    12   Silicon Valley Community Foundation  United States   \n",
      "2    17        Robert Wood Johnson Foundation  United States   \n",
      "3    21     Gordon and Betty Moore Foundation  United States   \n",
      "4    23  William and Flora Hewlett Foundation  United States   \n",
      "\n",
      "             Headquarters Endowment in USD  Founded         City State  \\\n",
      "0   Chevy Chase, Maryland    $27.1 billion     1953  Chevy Chase    MD   \n",
      "1    San Jose, California    $13.6 billion     2007     San Jose    CA   \n",
      "2   Princeton, New Jersey    $11.4 billion     1972    Princeton    NJ   \n",
      "3   Palo Alto, California     $9.5 billion     2000    Palo Alto    CA   \n",
      "4  Menlo Park, California     $8.7 billion     1967   Menlo Park    CA   \n",
      "\n",
      "          city   city_ascii  ...       lng population  density source  \\\n",
      "0  Chevy Chase  Chevy Chase  ...  -77.0738       9789   1567.1  shape   \n",
      "1     San Jose     San Jose  ... -121.8480    1771413   2172.6  shape   \n",
      "2    Princeton    Princeton  ...  -74.6693      30450    655.1  shape   \n",
      "3    Palo Alto    Palo Alto  ... -122.1468      67901   1090.0  shape   \n",
      "4   Menlo Park   Menlo Park  ... -122.1673      33324   1287.9  shape   \n",
      "\n",
      "   military  incorporated             timezone  ranking  \\\n",
      "0     False         False     America/New_York        3   \n",
      "1     False          True  America/Los_Angeles        1   \n",
      "2     False          True     America/New_York        3   \n",
      "3     False          True  America/Los_Angeles        3   \n",
      "4     False          True  America/Los_Angeles        3   \n",
      "\n",
      "                                                zips          id  \n",
      "0                                  20814 20815 20825  1840031323  \n",
      "1  95119 95118 95128 95124 95125 95122 95008 9500...  1840021570  \n",
      "2                            08544 08540 08542 08541  1840001381  \n",
      "3          94028 94022 94303 94301 94306 94304 94302  1840020333  \n",
      "4                                        94025 94026  1840020305  \n",
      "\n",
      "[5 rows x 25 columns]\n",
      "Latitude and Longitude Check:\n",
      "        lat       lng\n",
      "0  38.9944  -77.0738\n",
      "1  37.3012 -121.8480\n",
      "2  40.3562  -74.6693\n",
      "3  37.3905 -122.1468\n",
      "4  37.4685 -122.1673\n"
     ]
    }
   ],
   "source": [
    "# Merge the foundations data with the city data using normalized city and state\n",
    "merged_df = pd.merge(us_foundations_df, uscities_df, left_on=['City', 'State'], right_on=['city', 'state_id'], how='inner')\n",
    "\n",
    "# Print the shape and a few rows of the merged DataFrame to check the result\n",
    "print(\"Merged DataFrame Shape:\", merged_df.shape)\n",
    "print(\"Merged DataFrame Sample:\\n\", merged_df.head())\n",
    "\n",
    "# Check if lat and lng columns have valid data\n",
    "print(\"Latitude and Longitude Check:\\n\", merged_df[['lat', 'lng']].head())"
   ]
  },
  {
   "cell_type": "code",
   "execution_count": 68,
   "id": "fd6b33c5-6a4a-4cec-94d3-2653a2be6935",
   "metadata": {},
   "outputs": [
    {
     "name": "stdout",
     "output_type": "stream",
     "text": [
      "0    $27.1 billion\n",
      "1    $13.6 billion\n",
      "2    $11.4 billion\n",
      "3     $9.5 billion\n",
      "4     $8.7 billion\n",
      "Name: Endowment in USD, dtype: object\n"
     ]
    }
   ],
   "source": [
    "print(merged_df['Endowment in USD'].head())"
   ]
  },
  {
   "cell_type": "code",
   "execution_count": 70,
   "id": "267cf25c-9634-4184-8e38-802ccb695eb0",
   "metadata": {},
   "outputs": [
    {
     "data": {
      "application/vnd.plotly.v1+json": {
       "config": {
        "plotlyServerURL": "https://plot.ly"
       },
       "data": [
        {
         "customdata": [
          [
           "27.1 billion"
          ],
          [
           "13.6 billion"
          ]
         ],
         "geo": "geo",
         "hovertemplate": "<b>%{hovertext}</b><br><br>Endowment Category=Category 5<br>Endowment Numeric=%{marker.size}<br>lat=%{lat}<br>lng=%{lon}<br>Endowment in USD=%{customdata[0]}<extra></extra>",
         "hovertext": [
          "Howard Hughes Medical Institute",
          "Silicon Valley Community Foundation"
         ],
         "lat": [
          38.9944,
          37.3012
         ],
         "legendgroup": "Category 5",
         "lon": [
          -77.0738,
          -121.848
         ],
         "marker": {
          "color": "#636EFA",
          "size": [
           27100000000,
           13600000000
          ],
          "sizemode": "area",
          "sizeref": 30111111.111111112,
          "symbol": "circle"
         },
         "mode": "markers",
         "name": "Category 5",
         "showlegend": true,
         "type": "scattergeo"
        },
        {
         "customdata": [
          [
           "11.4 billion"
          ],
          [
           "9.5 billion"
          ]
         ],
         "geo": "geo",
         "hovertemplate": "<b>%{hovertext}</b><br><br>Endowment Category=Category 4<br>Endowment Numeric=%{marker.size}<br>lat=%{lat}<br>lng=%{lon}<br>Endowment in USD=%{customdata[0]}<extra></extra>",
         "hovertext": [
          "Robert Wood Johnson Foundation",
          "Gordon and Betty Moore Foundation"
         ],
         "lat": [
          40.3562,
          37.3905
         ],
         "legendgroup": "Category 4",
         "lon": [
          -74.6693,
          -122.1468
         ],
         "marker": {
          "color": "#EF553B",
          "size": [
           11400000000,
           9500000000
          ],
          "sizemode": "area",
          "sizeref": 30111111.111111112,
          "symbol": "circle"
         },
         "mode": "markers",
         "name": "Category 4",
         "showlegend": true,
         "type": "scattergeo"
        },
        {
         "customdata": [
          [
           "8.7 billion"
          ],
          [
           "8.2 billion"
          ]
         ],
         "geo": "geo",
         "hovertemplate": "<b>%{hovertext}</b><br><br>Endowment Category=Category 3<br>Endowment Numeric=%{marker.size}<br>lat=%{lat}<br>lng=%{lon}<br>Endowment in USD=%{customdata[0]}<extra></extra>",
         "hovertext": [
          "William and Flora Hewlett Foundation",
          "W. K. Kellogg Foundation Trust"
         ],
         "lat": [
          37.4685,
          42.2985
         ],
         "legendgroup": "Category 3",
         "lon": [
          -122.1673,
          -85.2296
         ],
         "marker": {
          "color": "#00CC96",
          "size": [
           8700000000,
           8199999999.999999
          ],
          "sizemode": "area",
          "sizeref": 30111111.111111112,
          "symbol": "circle"
         },
         "mode": "markers",
         "name": "Category 3",
         "showlegend": true,
         "type": "scattergeo"
        },
        {
         "customdata": [
          [
           "6.3 billion"
          ],
          [
           "5.9 billion"
          ]
         ],
         "geo": "geo",
         "hovertemplate": "<b>%{hovertext}</b><br><br>Endowment Category=Category 2<br>Endowment Numeric=%{marker.size}<br>lat=%{lat}<br>lng=%{lon}<br>Endowment in USD=%{customdata[0]}<extra></extra>",
         "hovertext": [
          "David and Lucile Packard Foundation",
          "Conrad N. Hilton Foundation"
         ],
         "lat": [
          37.3684,
          34.1369
         ],
         "legendgroup": "Category 2",
         "lon": [
          -122.0965,
          -118.822
         ],
         "marker": {
          "color": "#AB63FA",
          "size": [
           6300000000,
           5900000000
          ],
          "sizemode": "area",
          "sizeref": 30111111.111111112,
          "symbol": "circle"
         },
         "mode": "markers",
         "name": "Category 2",
         "showlegend": true,
         "type": "scattergeo"
        },
        {
         "customdata": [
          [
           "3.6 billion"
          ],
          [
           "3.6 billion"
          ]
         ],
         "geo": "geo",
         "hovertemplate": "<b>%{hovertext}</b><br><br>Endowment Category=Category 1<br>Endowment Numeric=%{marker.size}<br>lat=%{lat}<br>lng=%{lon}<br>Endowment in USD=%{customdata[0]}<extra></extra>",
         "hovertext": [
          "The Kresge Foundation",
          "California Health Care Foundation"
         ],
         "lat": [
          42.5817,
          37.7904
         ],
         "legendgroup": "Category 1",
         "lon": [
          -83.1457,
          -122.2166
         ],
         "marker": {
          "color": "#FFA15A",
          "size": [
           3600000000,
           3600000000
          ],
          "sizemode": "area",
          "sizeref": 30111111.111111112,
          "symbol": "circle"
         },
         "mode": "markers",
         "name": "Category 1",
         "showlegend": true,
         "type": "scattergeo"
        }
       ],
       "layout": {
        "autosize": true,
        "geo": {
         "center": {
          "lat": 41.54494296484003,
          "lon": -96.56841430727108
         },
         "domain": {
          "x": [
           0,
           1
          ],
          "y": [
           0,
           1
          ]
         },
         "projection": {
          "scale": 1.0352672526804894
         },
         "scope": "usa",
         "showland": true
        },
        "legend": {
         "itemsizing": "constant",
         "title": {
          "text": "Endowment Category"
         },
         "tracegroupgap": 0
        },
        "margin": {
         "t": 60
        },
        "template": {
         "data": {
          "bar": [
           {
            "error_x": {
             "color": "#2a3f5f"
            },
            "error_y": {
             "color": "#2a3f5f"
            },
            "marker": {
             "line": {
              "color": "#E5ECF6",
              "width": 0.5
             },
             "pattern": {
              "fillmode": "overlay",
              "size": 10,
              "solidity": 0.2
             }
            },
            "type": "bar"
           }
          ],
          "barpolar": [
           {
            "marker": {
             "line": {
              "color": "#E5ECF6",
              "width": 0.5
             },
             "pattern": {
              "fillmode": "overlay",
              "size": 10,
              "solidity": 0.2
             }
            },
            "type": "barpolar"
           }
          ],
          "carpet": [
           {
            "aaxis": {
             "endlinecolor": "#2a3f5f",
             "gridcolor": "white",
             "linecolor": "white",
             "minorgridcolor": "white",
             "startlinecolor": "#2a3f5f"
            },
            "baxis": {
             "endlinecolor": "#2a3f5f",
             "gridcolor": "white",
             "linecolor": "white",
             "minorgridcolor": "white",
             "startlinecolor": "#2a3f5f"
            },
            "type": "carpet"
           }
          ],
          "choropleth": [
           {
            "colorbar": {
             "outlinewidth": 0,
             "ticks": ""
            },
            "type": "choropleth"
           }
          ],
          "contour": [
           {
            "colorbar": {
             "outlinewidth": 0,
             "ticks": ""
            },
            "colorscale": [
             [
              0,
              "#0d0887"
             ],
             [
              0.1111111111111111,
              "#46039f"
             ],
             [
              0.2222222222222222,
              "#7201a8"
             ],
             [
              0.3333333333333333,
              "#9c179e"
             ],
             [
              0.4444444444444444,
              "#bd3786"
             ],
             [
              0.5555555555555556,
              "#d8576b"
             ],
             [
              0.6666666666666666,
              "#ed7953"
             ],
             [
              0.7777777777777778,
              "#fb9f3a"
             ],
             [
              0.8888888888888888,
              "#fdca26"
             ],
             [
              1,
              "#f0f921"
             ]
            ],
            "type": "contour"
           }
          ],
          "contourcarpet": [
           {
            "colorbar": {
             "outlinewidth": 0,
             "ticks": ""
            },
            "type": "contourcarpet"
           }
          ],
          "heatmap": [
           {
            "colorbar": {
             "outlinewidth": 0,
             "ticks": ""
            },
            "colorscale": [
             [
              0,
              "#0d0887"
             ],
             [
              0.1111111111111111,
              "#46039f"
             ],
             [
              0.2222222222222222,
              "#7201a8"
             ],
             [
              0.3333333333333333,
              "#9c179e"
             ],
             [
              0.4444444444444444,
              "#bd3786"
             ],
             [
              0.5555555555555556,
              "#d8576b"
             ],
             [
              0.6666666666666666,
              "#ed7953"
             ],
             [
              0.7777777777777778,
              "#fb9f3a"
             ],
             [
              0.8888888888888888,
              "#fdca26"
             ],
             [
              1,
              "#f0f921"
             ]
            ],
            "type": "heatmap"
           }
          ],
          "heatmapgl": [
           {
            "colorbar": {
             "outlinewidth": 0,
             "ticks": ""
            },
            "colorscale": [
             [
              0,
              "#0d0887"
             ],
             [
              0.1111111111111111,
              "#46039f"
             ],
             [
              0.2222222222222222,
              "#7201a8"
             ],
             [
              0.3333333333333333,
              "#9c179e"
             ],
             [
              0.4444444444444444,
              "#bd3786"
             ],
             [
              0.5555555555555556,
              "#d8576b"
             ],
             [
              0.6666666666666666,
              "#ed7953"
             ],
             [
              0.7777777777777778,
              "#fb9f3a"
             ],
             [
              0.8888888888888888,
              "#fdca26"
             ],
             [
              1,
              "#f0f921"
             ]
            ],
            "type": "heatmapgl"
           }
          ],
          "histogram": [
           {
            "marker": {
             "pattern": {
              "fillmode": "overlay",
              "size": 10,
              "solidity": 0.2
             }
            },
            "type": "histogram"
           }
          ],
          "histogram2d": [
           {
            "colorbar": {
             "outlinewidth": 0,
             "ticks": ""
            },
            "colorscale": [
             [
              0,
              "#0d0887"
             ],
             [
              0.1111111111111111,
              "#46039f"
             ],
             [
              0.2222222222222222,
              "#7201a8"
             ],
             [
              0.3333333333333333,
              "#9c179e"
             ],
             [
              0.4444444444444444,
              "#bd3786"
             ],
             [
              0.5555555555555556,
              "#d8576b"
             ],
             [
              0.6666666666666666,
              "#ed7953"
             ],
             [
              0.7777777777777778,
              "#fb9f3a"
             ],
             [
              0.8888888888888888,
              "#fdca26"
             ],
             [
              1,
              "#f0f921"
             ]
            ],
            "type": "histogram2d"
           }
          ],
          "histogram2dcontour": [
           {
            "colorbar": {
             "outlinewidth": 0,
             "ticks": ""
            },
            "colorscale": [
             [
              0,
              "#0d0887"
             ],
             [
              0.1111111111111111,
              "#46039f"
             ],
             [
              0.2222222222222222,
              "#7201a8"
             ],
             [
              0.3333333333333333,
              "#9c179e"
             ],
             [
              0.4444444444444444,
              "#bd3786"
             ],
             [
              0.5555555555555556,
              "#d8576b"
             ],
             [
              0.6666666666666666,
              "#ed7953"
             ],
             [
              0.7777777777777778,
              "#fb9f3a"
             ],
             [
              0.8888888888888888,
              "#fdca26"
             ],
             [
              1,
              "#f0f921"
             ]
            ],
            "type": "histogram2dcontour"
           }
          ],
          "mesh3d": [
           {
            "colorbar": {
             "outlinewidth": 0,
             "ticks": ""
            },
            "type": "mesh3d"
           }
          ],
          "parcoords": [
           {
            "line": {
             "colorbar": {
              "outlinewidth": 0,
              "ticks": ""
             }
            },
            "type": "parcoords"
           }
          ],
          "pie": [
           {
            "automargin": true,
            "type": "pie"
           }
          ],
          "scatter": [
           {
            "fillpattern": {
             "fillmode": "overlay",
             "size": 10,
             "solidity": 0.2
            },
            "type": "scatter"
           }
          ],
          "scatter3d": [
           {
            "line": {
             "colorbar": {
              "outlinewidth": 0,
              "ticks": ""
             }
            },
            "marker": {
             "colorbar": {
              "outlinewidth": 0,
              "ticks": ""
             }
            },
            "type": "scatter3d"
           }
          ],
          "scattercarpet": [
           {
            "marker": {
             "colorbar": {
              "outlinewidth": 0,
              "ticks": ""
             }
            },
            "type": "scattercarpet"
           }
          ],
          "scattergeo": [
           {
            "marker": {
             "colorbar": {
              "outlinewidth": 0,
              "ticks": ""
             }
            },
            "type": "scattergeo"
           }
          ],
          "scattergl": [
           {
            "marker": {
             "colorbar": {
              "outlinewidth": 0,
              "ticks": ""
             }
            },
            "type": "scattergl"
           }
          ],
          "scattermapbox": [
           {
            "marker": {
             "colorbar": {
              "outlinewidth": 0,
              "ticks": ""
             }
            },
            "type": "scattermapbox"
           }
          ],
          "scatterpolar": [
           {
            "marker": {
             "colorbar": {
              "outlinewidth": 0,
              "ticks": ""
             }
            },
            "type": "scatterpolar"
           }
          ],
          "scatterpolargl": [
           {
            "marker": {
             "colorbar": {
              "outlinewidth": 0,
              "ticks": ""
             }
            },
            "type": "scatterpolargl"
           }
          ],
          "scatterternary": [
           {
            "marker": {
             "colorbar": {
              "outlinewidth": 0,
              "ticks": ""
             }
            },
            "type": "scatterternary"
           }
          ],
          "surface": [
           {
            "colorbar": {
             "outlinewidth": 0,
             "ticks": ""
            },
            "colorscale": [
             [
              0,
              "#0d0887"
             ],
             [
              0.1111111111111111,
              "#46039f"
             ],
             [
              0.2222222222222222,
              "#7201a8"
             ],
             [
              0.3333333333333333,
              "#9c179e"
             ],
             [
              0.4444444444444444,
              "#bd3786"
             ],
             [
              0.5555555555555556,
              "#d8576b"
             ],
             [
              0.6666666666666666,
              "#ed7953"
             ],
             [
              0.7777777777777778,
              "#fb9f3a"
             ],
             [
              0.8888888888888888,
              "#fdca26"
             ],
             [
              1,
              "#f0f921"
             ]
            ],
            "type": "surface"
           }
          ],
          "table": [
           {
            "cells": {
             "fill": {
              "color": "#EBF0F8"
             },
             "line": {
              "color": "white"
             }
            },
            "header": {
             "fill": {
              "color": "#C8D4E3"
             },
             "line": {
              "color": "white"
             }
            },
            "type": "table"
           }
          ]
         },
         "layout": {
          "annotationdefaults": {
           "arrowcolor": "#2a3f5f",
           "arrowhead": 0,
           "arrowwidth": 1
          },
          "autotypenumbers": "strict",
          "coloraxis": {
           "colorbar": {
            "outlinewidth": 0,
            "ticks": ""
           }
          },
          "colorscale": {
           "diverging": [
            [
             0,
             "#8e0152"
            ],
            [
             0.1,
             "#c51b7d"
            ],
            [
             0.2,
             "#de77ae"
            ],
            [
             0.3,
             "#f1b6da"
            ],
            [
             0.4,
             "#fde0ef"
            ],
            [
             0.5,
             "#f7f7f7"
            ],
            [
             0.6,
             "#e6f5d0"
            ],
            [
             0.7,
             "#b8e186"
            ],
            [
             0.8,
             "#7fbc41"
            ],
            [
             0.9,
             "#4d9221"
            ],
            [
             1,
             "#276419"
            ]
           ],
           "sequential": [
            [
             0,
             "#0d0887"
            ],
            [
             0.1111111111111111,
             "#46039f"
            ],
            [
             0.2222222222222222,
             "#7201a8"
            ],
            [
             0.3333333333333333,
             "#9c179e"
            ],
            [
             0.4444444444444444,
             "#bd3786"
            ],
            [
             0.5555555555555556,
             "#d8576b"
            ],
            [
             0.6666666666666666,
             "#ed7953"
            ],
            [
             0.7777777777777778,
             "#fb9f3a"
            ],
            [
             0.8888888888888888,
             "#fdca26"
            ],
            [
             1,
             "#f0f921"
            ]
           ],
           "sequentialminus": [
            [
             0,
             "#0d0887"
            ],
            [
             0.1111111111111111,
             "#46039f"
            ],
            [
             0.2222222222222222,
             "#7201a8"
            ],
            [
             0.3333333333333333,
             "#9c179e"
            ],
            [
             0.4444444444444444,
             "#bd3786"
            ],
            [
             0.5555555555555556,
             "#d8576b"
            ],
            [
             0.6666666666666666,
             "#ed7953"
            ],
            [
             0.7777777777777778,
             "#fb9f3a"
            ],
            [
             0.8888888888888888,
             "#fdca26"
            ],
            [
             1,
             "#f0f921"
            ]
           ]
          },
          "colorway": [
           "#636efa",
           "#EF553B",
           "#00cc96",
           "#ab63fa",
           "#FFA15A",
           "#19d3f3",
           "#FF6692",
           "#B6E880",
           "#FF97FF",
           "#FECB52"
          ],
          "font": {
           "color": "#2a3f5f"
          },
          "geo": {
           "bgcolor": "white",
           "lakecolor": "white",
           "landcolor": "#E5ECF6",
           "showlakes": true,
           "showland": true,
           "subunitcolor": "white"
          },
          "hoverlabel": {
           "align": "left"
          },
          "hovermode": "closest",
          "mapbox": {
           "style": "light"
          },
          "paper_bgcolor": "white",
          "plot_bgcolor": "#E5ECF6",
          "polar": {
           "angularaxis": {
            "gridcolor": "white",
            "linecolor": "white",
            "ticks": ""
           },
           "bgcolor": "#E5ECF6",
           "radialaxis": {
            "gridcolor": "white",
            "linecolor": "white",
            "ticks": ""
           }
          },
          "scene": {
           "xaxis": {
            "backgroundcolor": "#E5ECF6",
            "gridcolor": "white",
            "gridwidth": 2,
            "linecolor": "white",
            "showbackground": true,
            "ticks": "",
            "zerolinecolor": "white"
           },
           "yaxis": {
            "backgroundcolor": "#E5ECF6",
            "gridcolor": "white",
            "gridwidth": 2,
            "linecolor": "white",
            "showbackground": true,
            "ticks": "",
            "zerolinecolor": "white"
           },
           "zaxis": {
            "backgroundcolor": "#E5ECF6",
            "gridcolor": "white",
            "gridwidth": 2,
            "linecolor": "white",
            "showbackground": true,
            "ticks": "",
            "zerolinecolor": "white"
           }
          },
          "shapedefaults": {
           "line": {
            "color": "#2a3f5f"
           }
          },
          "ternary": {
           "aaxis": {
            "gridcolor": "white",
            "linecolor": "white",
            "ticks": ""
           },
           "baxis": {
            "gridcolor": "white",
            "linecolor": "white",
            "ticks": ""
           },
           "bgcolor": "#E5ECF6",
           "caxis": {
            "gridcolor": "white",
            "linecolor": "white",
            "ticks": ""
           }
          },
          "title": {
           "x": 0.05
          },
          "xaxis": {
           "automargin": true,
           "gridcolor": "white",
           "linecolor": "white",
           "ticks": "",
           "title": {
            "standoff": 15
           },
           "zerolinecolor": "white",
           "zerolinewidth": 2
          },
          "yaxis": {
           "automargin": true,
           "gridcolor": "white",
           "linecolor": "white",
           "ticks": "",
           "title": {
            "standoff": 15
           },
           "zerolinecolor": "white",
           "zerolinewidth": 2
          }
         }
        },
        "title": {
         "text": "US-Based Wealthiest Charitable Foundations"
        }
       }
      },
      "image/png": "[encoded data removed]",
      "text/html": [
       "<div>                            <div id=\"653a0b53-23e9-492b-a750-06869dee4a32\" class=\"plotly-graph-div\" style=\"height:525px; width:100%;\"></div>            <script type=\"text/javascript\">                require([\"plotly\"], function(Plotly) {                    window.PLOTLYENV=window.PLOTLYENV || {};                                    if (document.getElementById(\"653a0b53-23e9-492b-a750-06869dee4a32\")) {                    Plotly.newPlot(                        \"653a0b53-23e9-492b-a750-06869dee4a32\",                        [{\"customdata\":[[\"27.1 billion\"],[\"13.6 billion\"]],\"geo\":\"geo\",\"hovertemplate\":\"<b>%{hovertext}</b><br><br>Endowment Category=Category 5<br>Endowment Numeric=%{marker.size}<br>lat=%{lat}<br>lng=%{lon}<br>Endowment in USD=%{customdata[0]}<extra></extra>\",\"hovertext\":[\"Howard Hughes Medical Institute\",\"Silicon Valley Community Foundation\"],\"lat\":[38.9944,37.3012],\"legendgroup\":\"Category 5\",\"lon\":[-77.0738,-121.848],\"marker\":{\"color\":\"#636EFA\",\"size\":[27100000000.0,13600000000.0],\"sizemode\":\"area\",\"sizeref\":30111111.111111112,\"symbol\":\"circle\"},\"mode\":\"markers\",\"name\":\"Category 5\",\"showlegend\":true,\"type\":\"scattergeo\"},{\"customdata\":[[\"11.4 billion\"],[\"9.5 billion\"]],\"geo\":\"geo\",\"hovertemplate\":\"<b>%{hovertext}</b><br><br>Endowment Category=Category 4<br>Endowment Numeric=%{marker.size}<br>lat=%{lat}<br>lng=%{lon}<br>Endowment in USD=%{customdata[0]}<extra></extra>\",\"hovertext\":[\"Robert Wood Johnson Foundation\",\"Gordon and Betty Moore Foundation\"],\"lat\":[40.3562,37.3905],\"legendgroup\":\"Category 4\",\"lon\":[-74.6693,-122.1468],\"marker\":{\"color\":\"#EF553B\",\"size\":[11400000000.0,9500000000.0],\"sizemode\":\"area\",\"sizeref\":30111111.111111112,\"symbol\":\"circle\"},\"mode\":\"markers\",\"name\":\"Category 4\",\"showlegend\":true,\"type\":\"scattergeo\"},{\"customdata\":[[\"8.7 billion\"],[\"8.2 billion\"]],\"geo\":\"geo\",\"hovertemplate\":\"<b>%{hovertext}</b><br><br>Endowment Category=Category 3<br>Endowment Numeric=%{marker.size}<br>lat=%{lat}<br>lng=%{lon}<br>Endowment in USD=%{customdata[0]}<extra></extra>\",\"hovertext\":[\"William and Flora Hewlett Foundation\",\"W. K. Kellogg Foundation Trust\"],\"lat\":[37.4685,42.2985],\"legendgroup\":\"Category 3\",\"lon\":[-122.1673,-85.2296],\"marker\":{\"color\":\"#00CC96\",\"size\":[8700000000.0,8199999999.999999],\"sizemode\":\"area\",\"sizeref\":30111111.111111112,\"symbol\":\"circle\"},\"mode\":\"markers\",\"name\":\"Category 3\",\"showlegend\":true,\"type\":\"scattergeo\"},{\"customdata\":[[\"6.3 billion\"],[\"5.9 billion\"]],\"geo\":\"geo\",\"hovertemplate\":\"<b>%{hovertext}</b><br><br>Endowment Category=Category 2<br>Endowment Numeric=%{marker.size}<br>lat=%{lat}<br>lng=%{lon}<br>Endowment in USD=%{customdata[0]}<extra></extra>\",\"hovertext\":[\"David and Lucile Packard Foundation\",\"Conrad N. Hilton Foundation\"],\"lat\":[37.3684,34.1369],\"legendgroup\":\"Category 2\",\"lon\":[-122.0965,-118.822],\"marker\":{\"color\":\"#AB63FA\",\"size\":[6300000000.0,5900000000.0],\"sizemode\":\"area\",\"sizeref\":30111111.111111112,\"symbol\":\"circle\"},\"mode\":\"markers\",\"name\":\"Category 2\",\"showlegend\":true,\"type\":\"scattergeo\"},{\"customdata\":[[\"3.6 billion\"],[\"3.6 billion\"]],\"geo\":\"geo\",\"hovertemplate\":\"<b>%{hovertext}</b><br><br>Endowment Category=Category 1<br>Endowment Numeric=%{marker.size}<br>lat=%{lat}<br>lng=%{lon}<br>Endowment in USD=%{customdata[0]}<extra></extra>\",\"hovertext\":[\"The Kresge Foundation\",\"California Health Care Foundation\"],\"lat\":[42.5817,37.7904],\"legendgroup\":\"Category 1\",\"lon\":[-83.1457,-122.2166],\"marker\":{\"color\":\"#FFA15A\",\"size\":[3600000000.0,3600000000.0],\"sizemode\":\"area\",\"sizeref\":30111111.111111112,\"symbol\":\"circle\"},\"mode\":\"markers\",\"name\":\"Category 1\",\"showlegend\":true,\"type\":\"scattergeo\"}],                        {\"template\":{\"data\":{\"histogram2dcontour\":[{\"type\":\"histogram2dcontour\",\"colorbar\":{\"outlinewidth\":0,\"ticks\":\"\"},\"colorscale\":[[0.0,\"#0d0887\"],[0.1111111111111111,\"#46039f\"],[0.2222222222222222,\"#7201a8\"],[0.3333333333333333,\"#9c179e\"],[0.4444444444444444,\"#bd3786\"],[0.5555555555555556,\"#d8576b\"],[0.6666666666666666,\"#ed7953\"],[0.7777777777777778,\"#fb9f3a\"],[0.8888888888888888,\"#fdca26\"],[1.0,\"#f0f921\"]]}],\"choropleth\":[{\"type\":\"choropleth\",\"colorbar\":{\"outlinewidth\":0,\"ticks\":\"\"}}],\"histogram2d\":[{\"type\":\"histogram2d\",\"colorbar\":{\"outlinewidth\":0,\"ticks\":\"\"},\"colorscale\":[[0.0,\"#0d0887\"],[0.1111111111111111,\"#46039f\"],[0.2222222222222222,\"#7201a8\"],[0.3333333333333333,\"#9c179e\"],[0.4444444444444444,\"#bd3786\"],[0.5555555555555556,\"#d8576b\"],[0.6666666666666666,\"#ed7953\"],[0.7777777777777778,\"#fb9f3a\"],[0.8888888888888888,\"#fdca26\"],[1.0,\"#f0f921\"]]}],\"heatmap\":[{\"type\":\"heatmap\",\"colorbar\":{\"outlinewidth\":0,\"ticks\":\"\"},\"colorscale\":[[0.0,\"#0d0887\"],[0.1111111111111111,\"#46039f\"],[0.2222222222222222,\"#7201a8\"],[0.3333333333333333,\"#9c179e\"],[0.4444444444444444,\"#bd3786\"],[0.5555555555555556,\"#d8576b\"],[0.6666666666666666,\"#ed7953\"],[0.7777777777777778,\"#fb9f3a\"],[0.8888888888888888,\"#fdca26\"],[1.0,\"#f0f921\"]]}],\"heatmapgl\":[{\"type\":\"heatmapgl\",\"colorbar\":{\"outlinewidth\":0,\"ticks\":\"\"},\"colorscale\":[[0.0,\"#0d0887\"],[0.1111111111111111,\"#46039f\"],[0.2222222222222222,\"#7201a8\"],[0.3333333333333333,\"#9c179e\"],[0.4444444444444444,\"#bd3786\"],[0.5555555555555556,\"#d8576b\"],[0.6666666666666666,\"#ed7953\"],[0.7777777777777778,\"#fb9f3a\"],[0.8888888888888888,\"#fdca26\"],[1.0,\"#f0f921\"]]}],\"contourcarpet\":[{\"type\":\"contourcarpet\",\"colorbar\":{\"outlinewidth\":0,\"ticks\":\"\"}}],\"contour\":[{\"type\":\"contour\",\"colorbar\":{\"outlinewidth\":0,\"ticks\":\"\"},\"colorscale\":[[0.0,\"#0d0887\"],[0.1111111111111111,\"#46039f\"],[0.2222222222222222,\"#7201a8\"],[0.3333333333333333,\"#9c179e\"],[0.4444444444444444,\"#bd3786\"],[0.5555555555555556,\"#d8576b\"],[0.6666666666666666,\"#ed7953\"],[0.7777777777777778,\"#fb9f3a\"],[0.8888888888888888,\"#fdca26\"],[1.0,\"#f0f921\"]]}],\"surface\":[{\"type\":\"surface\",\"colorbar\":{\"outlinewidth\":0,\"ticks\":\"\"},\"colorscale\":[[0.0,\"#0d0887\"],[0.1111111111111111,\"#46039f\"],[0.2222222222222222,\"#7201a8\"],[0.3333333333333333,\"#9c179e\"],[0.4444444444444444,\"#bd3786\"],[0.5555555555555556,\"#d8576b\"],[0.6666666666666666,\"#ed7953\"],[0.7777777777777778,\"#fb9f3a\"],[0.8888888888888888,\"#fdca26\"],[1.0,\"#f0f921\"]]}],\"mesh3d\":[{\"type\":\"mesh3d\",\"colorbar\":{\"outlinewidth\":0,\"ticks\":\"\"}}],\"scatter\":[{\"fillpattern\":{\"fillmode\":\"overlay\",\"size\":10,\"solidity\":0.2},\"type\":\"scatter\"}],\"parcoords\":[{\"type\":\"parcoords\",\"line\":{\"colorbar\":{\"outlinewidth\":0,\"ticks\":\"\"}}}],\"scatterpolargl\":[{\"type\":\"scatterpolargl\",\"marker\":{\"colorbar\":{\"outlinewidth\":0,\"ticks\":\"\"}}}],\"bar\":[{\"error_x\":{\"color\":\"#2a3f5f\"},\"error_y\":{\"color\":\"#2a3f5f\"},\"marker\":{\"line\":{\"color\":\"#E5ECF6\",\"width\":0.5},\"pattern\":{\"fillmode\":\"overlay\",\"size\":10,\"solidity\":0.2}},\"type\":\"bar\"}],\"scattergeo\":[{\"type\":\"scattergeo\",\"marker\":{\"colorbar\":{\"outlinewidth\":0,\"ticks\":\"\"}}}],\"scatterpolar\":[{\"type\":\"scatterpolar\",\"marker\":{\"colorbar\":{\"outlinewidth\":0,\"ticks\":\"\"}}}],\"histogram\":[{\"marker\":{\"pattern\":{\"fillmode\":\"overlay\",\"size\":10,\"solidity\":0.2}},\"type\":\"histogram\"}],\"scattergl\":[{\"type\":\"scattergl\",\"marker\":{\"colorbar\":{\"outlinewidth\":0,\"ticks\":\"\"}}}],\"scatter3d\":[{\"type\":\"scatter3d\",\"line\":{\"colorbar\":{\"outlinewidth\":0,\"ticks\":\"\"}},\"marker\":{\"colorbar\":{\"outlinewidth\":0,\"ticks\":\"\"}}}],\"scattermapbox\":[{\"type\":\"scattermapbox\",\"marker\":{\"colorbar\":{\"outlinewidth\":0,\"ticks\":\"\"}}}],\"scatterternary\":[{\"type\":\"scatterternary\",\"marker\":{\"colorbar\":{\"outlinewidth\":0,\"ticks\":\"\"}}}],\"scattercarpet\":[{\"type\":\"scattercarpet\",\"marker\":{\"colorbar\":{\"outlinewidth\":0,\"ticks\":\"\"}}}],\"carpet\":[{\"aaxis\":{\"endlinecolor\":\"#2a3f5f\",\"gridcolor\":\"white\",\"linecolor\":\"white\",\"minorgridcolor\":\"white\",\"startlinecolor\":\"#2a3f5f\"},\"baxis\":{\"endlinecolor\":\"#2a3f5f\",\"gridcolor\":\"white\",\"linecolor\":\"white\",\"minorgridcolor\":\"white\",\"startlinecolor\":\"#2a3f5f\"},\"type\":\"carpet\"}],\"table\":[{\"cells\":{\"fill\":{\"color\":\"#EBF0F8\"},\"line\":{\"color\":\"white\"}},\"header\":{\"fill\":{\"color\":\"#C8D4E3\"},\"line\":{\"color\":\"white\"}},\"type\":\"table\"}],\"barpolar\":[{\"marker\":{\"line\":{\"color\":\"#E5ECF6\",\"width\":0.5},\"pattern\":{\"fillmode\":\"overlay\",\"size\":10,\"solidity\":0.2}},\"type\":\"barpolar\"}],\"pie\":[{\"automargin\":true,\"type\":\"pie\"}]},\"layout\":{\"autotypenumbers\":\"strict\",\"colorway\":[\"#636efa\",\"#EF553B\",\"#00cc96\",\"#ab63fa\",\"#FFA15A\",\"#19d3f3\",\"#FF6692\",\"#B6E880\",\"#FF97FF\",\"#FECB52\"],\"font\":{\"color\":\"#2a3f5f\"},\"hovermode\":\"closest\",\"hoverlabel\":{\"align\":\"left\"},\"paper_bgcolor\":\"white\",\"plot_bgcolor\":\"#E5ECF6\",\"polar\":{\"bgcolor\":\"#E5ECF6\",\"angularaxis\":{\"gridcolor\":\"white\",\"linecolor\":\"white\",\"ticks\":\"\"},\"radialaxis\":{\"gridcolor\":\"white\",\"linecolor\":\"white\",\"ticks\":\"\"}},\"ternary\":{\"bgcolor\":\"#E5ECF6\",\"aaxis\":{\"gridcolor\":\"white\",\"linecolor\":\"white\",\"ticks\":\"\"},\"baxis\":{\"gridcolor\":\"white\",\"linecolor\":\"white\",\"ticks\":\"\"},\"caxis\":{\"gridcolor\":\"white\",\"linecolor\":\"white\",\"ticks\":\"\"}},\"coloraxis\":{\"colorbar\":{\"outlinewidth\":0,\"ticks\":\"\"}},\"colorscale\":{\"sequential\":[[0.0,\"#0d0887\"],[0.1111111111111111,\"#46039f\"],[0.2222222222222222,\"#7201a8\"],[0.3333333333333333,\"#9c179e\"],[0.4444444444444444,\"#bd3786\"],[0.5555555555555556,\"#d8576b\"],[0.6666666666666666,\"#ed7953\"],[0.7777777777777778,\"#fb9f3a\"],[0.8888888888888888,\"#fdca26\"],[1.0,\"#f0f921\"]],\"sequentialminus\":[[0.0,\"#0d0887\"],[0.1111111111111111,\"#46039f\"],[0.2222222222222222,\"#7201a8\"],[0.3333333333333333,\"#9c179e\"],[0.4444444444444444,\"#bd3786\"],[0.5555555555555556,\"#d8576b\"],[0.6666666666666666,\"#ed7953\"],[0.7777777777777778,\"#fb9f3a\"],[0.8888888888888888,\"#fdca26\"],[1.0,\"#f0f921\"]],\"diverging\":[[0,\"#8e0152\"],[0.1,\"#c51b7d\"],[0.2,\"#de77ae\"],[0.3,\"#f1b6da\"],[0.4,\"#fde0ef\"],[0.5,\"#f7f7f7\"],[0.6,\"#e6f5d0\"],[0.7,\"#b8e186\"],[0.8,\"#7fbc41\"],[0.9,\"#4d9221\"],[1,\"#276419\"]]},\"xaxis\":{\"gridcolor\":\"white\",\"linecolor\":\"white\",\"ticks\":\"\",\"title\":{\"standoff\":15},\"zerolinecolor\":\"white\",\"automargin\":true,\"zerolinewidth\":2},\"yaxis\":{\"gridcolor\":\"white\",\"linecolor\":\"white\",\"ticks\":\"\",\"title\":{\"standoff\":15},\"zerolinecolor\":\"white\",\"automargin\":true,\"zerolinewidth\":2},\"scene\":{\"xaxis\":{\"backgroundcolor\":\"#E5ECF6\",\"gridcolor\":\"white\",\"linecolor\":\"white\",\"showbackground\":true,\"ticks\":\"\",\"zerolinecolor\":\"white\",\"gridwidth\":2},\"yaxis\":{\"backgroundcolor\":\"#E5ECF6\",\"gridcolor\":\"white\",\"linecolor\":\"white\",\"showbackground\":true,\"ticks\":\"\",\"zerolinecolor\":\"white\",\"gridwidth\":2},\"zaxis\":{\"backgroundcolor\":\"#E5ECF6\",\"gridcolor\":\"white\",\"linecolor\":\"white\",\"showbackground\":true,\"ticks\":\"\",\"zerolinecolor\":\"white\",\"gridwidth\":2}},\"shapedefaults\":{\"line\":{\"color\":\"#2a3f5f\"}},\"annotationdefaults\":{\"arrowcolor\":\"#2a3f5f\",\"arrowhead\":0,\"arrowwidth\":1},\"geo\":{\"bgcolor\":\"white\",\"landcolor\":\"#E5ECF6\",\"subunitcolor\":\"white\",\"showland\":true,\"showlakes\":true,\"lakecolor\":\"white\"},\"title\":{\"x\":0.05},\"mapbox\":{\"style\":\"light\"}}},\"geo\":{\"domain\":{\"x\":[0.0,1.0],\"y\":[0.0,1.0]},\"center\":{},\"scope\":\"usa\",\"showland\":true},\"legend\":{\"title\":{\"text\":\"Endowment Category\"},\"tracegroupgap\":0,\"itemsizing\":\"constant\"},\"margin\":{\"t\":60},\"title\":{\"text\":\"US-Based Wealthiest Charitable Foundations\"}},                        {\"responsive\": true}                    ).then(function(){\n",
       "                            \n",
       "var gd = document.getElementById('653a0b53-23e9-492b-a750-06869dee4a32');\n",
       "var x = new MutationObserver(function (mutations, observer) {{\n",
       "        var display = window.getComputedStyle(gd).display;\n",
       "        if (!display || display === 'none') {{\n",
       "            console.log([gd, 'removed!']);\n",
       "            Plotly.purge(gd);\n",
       "            observer.disconnect();\n",
       "        }}\n",
       "}});\n",
       "\n",
       "// Listen for the removal of the full notebook cells\n",
       "var notebookContainer = gd.closest('#notebook-container');\n",
       "if (notebookContainer) {{\n",
       "    x.observe(notebookContainer, {childList: true});\n",
       "}}\n",
       "\n",
       "// Listen for the clearing of the current output cell\n",
       "var outputEl = gd.closest('.output');\n",
       "if (outputEl) {{\n",
       "    x.observe(outputEl, {childList: true});\n",
       "}}\n",
       "\n",
       "                        })                };                });            </script>        </div>"
      ]
     },
     "metadata": {},
     "output_type": "display_data"
    }
   ],
   "source": [
    "import warnings\n",
    "warnings.filterwarnings(\"ignore\", category=FutureWarning)\n",
    "\n",
    "import plotly.express as px\n",
    "\n",
    "merged_df['Endowment in USD'] = merged_df['Endowment in USD'].str.replace('\\xa0', ' ').str.replace('$', '').str.replace(',', '')\n",
    "\n",
    "# Function to convert endowment values to numeric format\n",
    "def approximate_value(value):\n",
    "    if 'billion' in value:\n",
    "        return float(value.replace('$', '').replace(' billion', '').replace(',', '')) * 1e9\n",
    "    return float(value.replace('$', '').replace(',', ''))\n",
    "\n",
    "# Apply the conversion function to the 'Endowment in USD' column\n",
    "merged_df['Endowment Numeric'] = merged_df['Endowment in USD'].apply(approximate_value)\n",
    "\n",
    "# Create a categorical column for colors\n",
    "merged_df['Endowment Category'] = pd.qcut(\n",
    "    merged_df['Endowment Numeric'], \n",
    "    q=5, \n",
    "    labels=[f'Category {i+1}' for i in range(5)], \n",
    "    duplicates='drop'\n",
    ")\n",
    "\n",
    "\n",
    "fig = px.scatter_geo(\n",
    "    merged_df,\n",
    "    lat='lat',\n",
    "    lon='lng',\n",
    "    size='Endowment Numeric',\n",
    "    color='Endowment Category',  \n",
    "    hover_name='Organisation',\n",
    "    hover_data=['Endowment in USD'],\n",
    "    color_discrete_sequence=px.colors.qualitative.Plotly,  \n",
    "    size_max=30\n",
    ")\n",
    "\n",
    "fig.update_layout(\n",
    "    title='US-Based Wealthiest Charitable Foundations',\n",
    "    geo_scope='usa',\n",
    "    geo=dict(showland=True)\n",
    ")\n",
    "\n",
    "fig.show()\n"
   ]
  },
  {
   "cell_type": "markdown",
   "id": "c63b992d-bf33-4b63-912b-965fa09da470",
   "metadata": {},
   "source": [
    "# 3. The CEO has requested the donor list again, but this time limited only to states that IFF is currently located in. \n",
    "\n",
    "Please provide an updated script in Python/R that filters the data in question 1 to only include rows that are located in current IFF\n",
    "markets and export the output of a dataframe into a csv."
   ]
  },
  {
   "cell_type": "markdown",
   "id": "959defd9-751e-4fc7-9fb5-04e99ed52f55",
   "metadata": {},
   "source": [
    "#### Based on the IFF website, I've identified the states for IFF locations as:\n",
    "KS (Kansas)\n",
    "LA (Louisiana)\n",
    "WV (West Virginia)\n",
    "GA (Georgia)\n",
    "ME (Maine)\n",
    "OH (Ohio)\n",
    "WI (Wisconsin)\n",
    "TX (Texas)\n",
    "IL (Illinois)\n",
    "NJ (New Jersey)\n",
    "PA (Pennsylvania)\n",
    "FL (Florida)\n",
    "IA (Iowa)\n",
    "CT (Connecticut)\n",
    "AL (Alabama)\n",
    "MI (Michigan)\n",
    "MO (Missouri)\n",
    "AR (Arkansas)\n",
    "MN (Minnesota)\n",
    "IN (Indiana)\n",
    "MA (Massachusetts)\n",
    "NV (Nevada)\n",
    "MD (Maryland)"
   ]
  },
  {
   "cell_type": "code",
   "execution_count": 71,
   "id": "25bc45de-1783-4888-8dde-ca038c48fcc5",
   "metadata": {},
   "outputs": [
    {
     "name": "stdout",
     "output_type": "stream",
     "text": [
      "Index(['Rank', 'Organisation', 'Country', 'Headquarters', 'Endowment in USD',\n",
      "       'Founded', 'City', 'State', 'city', 'city_ascii', 'state_id',\n",
      "       'state_name', 'county_fips', 'county_name', 'lat', 'lng', 'population',\n",
      "       'density', 'source', 'military', 'incorporated', 'timezone', 'ranking',\n",
      "       'zips', 'id', 'Endowment Numeric', 'Endowment Category'],\n",
      "      dtype='object')\n"
     ]
    }
   ],
   "source": [
    "print(merged_df.columns)"
   ]
  },
  {
   "cell_type": "code",
   "execution_count": 78,
   "id": "3d45cb3b-f3d2-4dd3-9922-52813ce1faca",
   "metadata": {},
   "outputs": [
    {
     "name": "stdout",
     "output_type": "stream",
     "text": [
      "['MD' 'CA' 'NJ' 'MI']\n"
     ]
    }
   ],
   "source": [
    "print(merged_df['State'].unique())"
   ]
  },
  {
   "cell_type": "code",
   "execution_count": 79,
   "id": "5338759b-f50c-4bcc-b133-3b9bf6ac55a1",
   "metadata": {},
   "outputs": [
    {
     "name": "stdout",
     "output_type": "stream",
     "text": [
      "['MD' 'NJ' 'MI']\n"
     ]
    }
   ],
   "source": [
    "# Define the states where IFF is currently located\n",
    "iff_states = {\n",
    "    'KS', 'LA', 'WV', 'GA', 'ME', 'OH', 'WI', 'TX', 'IL', 'NJ',\n",
    "    'PA', 'FL', 'IA', 'CT', 'AL', 'MI', 'MO', 'AR', 'MN', 'IN',\n",
    "    'MA', 'NV', 'MD'\n",
    "}\n",
    "\n",
    "# Filter the wealth_df to include only rows from the states where IFF is located\n",
    "filtered_merged_df = merged_df[merged_df['State'].isin(iff_states)]\n",
    "print(filtered_merged_df['State'].unique())"
   ]
  },
  {
   "cell_type": "code",
   "execution_count": 80,
   "id": "436903d3-7f6e-4903-879d-a06dda47ada6",
   "metadata": {},
   "outputs": [
    {
     "name": "stdout",
     "output_type": "stream",
     "text": [
      "Filtered donor list based on IFF locations exported successfully.\n"
     ]
    }
   ],
   "source": [
    "# Export the filtered DataFrame to a new CSV file\n",
    "filtered_wealth_df.to_csv('filtered_donor_list_if_location.csv', index=False)\n",
    "\n",
    "print(\"Filtered donor list based on IFF locations exported successfully.\")"
   ]
  }
 ],
 "metadata": {
  "kernelspec": {
   "display_name": "Python 3 (ipykernel)",
   "language": "python",
   "name": "python3"
  },
  "language_info": {
   "codemirror_mode": {
    "name": "ipython",
    "version": 3
   },
   "file_extension": ".py",
   "mimetype": "text/x-python",
   "name": "python",
   "nbconvert_exporter": "python",
   "pygments_lexer": "ipython3",
   "version": "3.11.7"
  }
 },
 "nbformat": 4,
 "nbformat_minor": 5
}
